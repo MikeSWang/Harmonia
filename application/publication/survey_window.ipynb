{
 "cells": [
  {
   "cell_type": "markdown",
   "metadata": {},
   "source": [
    "# Survey Window"
   ]
  },
  {
   "cell_type": "code",
   "execution_count": 1,
   "metadata": {},
   "outputs": [],
   "source": [
    "import os\n",
    "import sys\n",
    "from pathlib import Path\n",
    "\n",
    "repo_root = Path(os.getcwd()).parent\n",
    "sys.path.insert(0, str(repo_root))"
   ]
  },
  {
   "cell_type": "code",
   "execution_count": 2,
   "metadata": {},
   "outputs": [],
   "source": [
    "import matplotlib.pyplot as plt\n",
    "import healpy as hp\n",
    "import numpy as np\n",
    "\n",
    "from pipeline import harmony\n",
    "from harmonia.algorithms import CartesianArray\n",
    "\n",
    "plt.style.use(harmony)"
   ]
  },
  {
   "cell_type": "code",
   "execution_count": 3,
   "metadata": {},
   "outputs": [],
   "source": [
    "case = 'full-sky'  # 'partial-sky'\n",
    "\n",
    "if case == 'full-sky':\n",
    "    info = \"mask=1.0,selection=None\"\n",
    "if case == 'partial-sky':\n",
    "    info = \"mask=random0_BOSS_DR12v5_CMASS_North,selection=[100.0,500.0]\""
   ]
  },
  {
   "cell_type": "code",
   "execution_count": 4,
   "metadata": {},
   "outputs": [],
   "source": [
    "storage = repo_root/\"storage\"/\"processed\"/\"survey_products\"\n",
    "\n",
    "mask_multipoles = np.load(\n",
    "    storage/\n",
    "    \"mask-(orders=[0,2,4,6,8],boxsize=1000.0,expansion=70.0,mesh=768,{}).npy\".format(info)\n",
    ")\n",
    "\n",
    "window_multipoles = CartesianArray.load(\n",
    "    storage/\n",
    "    \"window-(orders=[0,2,4,6,8],boxsize=1000.0,expansion=70.0,mesh=768,{}).npz\".format(info)\n",
    ")"
   ]
  },
  {
   "cell_type": "code",
   "execution_count": 5,
   "metadata": {},
   "outputs": [
    {
     "data": {
      "image/png": "[encoded data removed]",
      "text/plain": [
       "<Figure size 320x250 with 1 Axes>"
      ]
     },
     "metadata": {
      "needs_background": "light"
     },
     "output_type": "display_data"
    }
   ],
   "source": [
    "fig = plt.figure(figsize=(3.2, 2.5), dpi=100)\n",
    "\n",
    "ax = plt.subplot2grid((1, 1), (0, 0))\n",
    "\n",
    "for ell, ls in zip(\n",
    "        [0, 2, 4, 6, 8], \n",
    "        ['-', '--', (0, (3, 1, 1, 1)), (0, (1, 1)), (0, (3, 1, 1, 1, 1, 1))]\n",
    "    ):\n",
    "    ax.semilogx(\n",
    "        mask_multipoles['separation'][mask_multipoles['order'] == ell], \n",
    "        (2 * ell + 1) * mask_multipoles['correlation'][mask_multipoles['order'] == ell],\n",
    "        ls=ls, label='$\\ell = {}$'.format(ell)\n",
    "    )\n",
    "\n",
    "if case == 'partial-sky':\n",
    "    ax.legend(handletextpad=0.5, handlelength=1., loc='upper right', fontsize='medium')\n",
    "ax.set_yticks(np.arange(-0.2, 1.2, 0.2))\n",
    "ax.set_xlim(right=2*np.pi/5.5e-4, left=2*np.pi/1.)\n",
    "ax.set_ylim(bottom=-0.3, top=1.1)\n",
    "from matplotlib.ticker import LogLocator\n",
    "ax.xaxis.set_major_locator(LogLocator(base=10.0, subs=(1.0,), numticks=20))\n",
    "ax.xaxis.set_minor_locator(LogLocator(base=10.0, subs=np.arange(2, 10)*.1, numticks=200))\n",
    "ax.set_xlabel(r\"$s$ [$h^{-1}\\,$Mpc]\", fontsize='medium')\n",
    "ax.set_ylabel(r\"$(2\\ell + 1)\\,Q_\\ell(s)$\", fontsize='medium')\n",
    "ax.set_title('{}'.format(case.replace(\"-\", \" \")), pad=10, fontsize='medium')\n",
    "\n",
    "fig.savefig(repo_root/\"publication\"/\"gallery\"/\"survey_window_{}.pdf\".format(case))"
   ]
  }
 ],
 "metadata": {
  "kernelspec": {
   "display_name": "Python 3",
   "language": "python",
   "name": "python3"
  },
  "language_info": {
   "codemirror_mode": {
    "name": "ipython",
    "version": 3
   },
   "file_extension": ".py",
   "mimetype": "text/x-python",
   "name": "python",
   "nbconvert_exporter": "python",
   "pygments_lexer": "ipython3",
   "version": "3.6.9"
  }
 },
 "nbformat": 4,
 "nbformat_minor": 4
}
