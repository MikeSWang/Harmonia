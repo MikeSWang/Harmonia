{
 "cells": [
  {
   "cell_type": "markdown",
   "metadata": {},
   "source": [
    "# Covariance Estimation"
   ]
  },
  {
   "cell_type": "code",
   "execution_count": 1,
   "metadata": {},
   "outputs": [],
   "source": [
    "import os\n",
    "import sys\n",
    "from pathlib import Path\n",
    "\n",
    "repo_root = Path(os.getcwd()).parent\n",
    "sys.path.insert(0, str(repo_root))"
   ]
  },
  {
   "cell_type": "code",
   "execution_count": 2,
   "metadata": {},
   "outputs": [],
   "source": [
    "import matplotlib.pyplot as plt\n",
    "import numpy as np\n",
    "import seaborn as sns\n",
    "from matplotlib.colors import LinearSegmentedColormap\n",
    "\n",
    "from pipeline import harmony\n",
    "from harmonia.surveyor.synthesis import CovarianceEstimator\n",
    "from harmonia.utils import covar_to_corr\n",
    "\n",
    "plt.style.use(harmony)"
   ]
  },
  {
   "cell_type": "code",
   "execution_count": 3,
   "metadata": {},
   "outputs": [],
   "source": [
    "case = 'partial-sky'  # 'partial-sky'\n",
    "\n",
    "if case == 'full-sky':\n",
    "    info = \"mask=1.0,selection=None\"\n",
    "if case == 'partial-sky':\n",
    "    info = \"mask=BOSS_CMASS_North,selection=[100.0,500.0]\""
   ]
  },
  {
   "cell_type": "code",
   "execution_count": 4,
   "metadata": {},
   "outputs": [],
   "source": [
    "storage = repo_root/\"storage\"/\"processed\"/\"survey_products\"\n",
    "\n",
    "covar_estimator = CovarianceEstimator.load(\n",
    "    storage/\n",
    "    \"covar-estimate-(source=1-2500,map=cartesian,boxsize=1000.0,scale=[None,0.09],orders=[0],{}).npz\".format(info)\n",
    ")"
   ]
  },
  {
   "cell_type": "code",
   "execution_count": 5,
   "metadata": {},
   "outputs": [
    {
     "name": "stdout",
     "output_type": "stream",
     "text": [
      "[0.00679263 0.01626636 0.02638885 0.03562137 0.04532507 0.05516875\n",
      " 0.06503194 0.07514892]\n"
     ]
    }
   ],
   "source": [
    "print(covar_estimator.wavenumbers)"
   ]
  },
  {
   "cell_type": "code",
   "execution_count": 6,
   "metadata": {},
   "outputs": [
    {
     "name": "stdout",
     "output_type": "stream",
     "text": [
      "[2020-07-26 22:31:50 (+0:00:01) INFO] NumExpr defaulting to 8 threads.\n"
     ]
    },
    {
     "data": {
      "image/png": "[encoded data removed]",
      "text/plain": [
       "<Figure size 276.686x240.248 with 2 Axes>"
      ]
     },
     "metadata": {
      "needs_background": "light"
     },
     "output_type": "display_data"
    }
   ],
   "source": [
    "cmap = LinearSegmentedColormap.from_list(\n",
    "    \"abyss\", \n",
    "    [(0.1, 0.6, 1.0), (0.05, 0.05, 0.05), (0.8, 0.5, 0.1)]\n",
    ")\n",
    "\n",
    "k_bins = [\"{:.3f}\".format(k) for k in covar_estimator.wavenumbers]\n",
    "# k_bins = list(range(1, 9))\n",
    "\n",
    "fig = plt.figure(figsize=(3.2, 3.5), dpi=100)\n",
    "\n",
    "ax = sns.heatmap(\n",
    "    np.flipud(covar_to_corr(covar_estimator.get_fiducial_covariance('order'))),\n",
    "    vmin=-1., vmax=1., center=0., cmap='coolwarm', square=True,\n",
    "    xticklabels=k_bins, yticklabels=list(reversed(k_bins)),\n",
    "    cbar_kws={\n",
    "        'use_gridspec': False,\n",
    "        'shrink': 0.75,\n",
    "        'ticks': np.r_[np.arange(-1., 1., 0.5), 1.]\n",
    "        # 'location': 'top',\n",
    "    }\n",
    ")\n",
    "    \n",
    "ax.set_xlabel(r'$k_i$ [$h$/Mpc]', labelpad=8);\n",
    "ax.set_ylabel(r'$k_j$ [$h$/Mpc]', labelpad=8);\n",
    "ax.xaxis.tick_bottom();\n",
    "ax.yaxis.tick_left();\n",
    "ax.tick_params(which='both', direction='out')\n",
    "ax.set_title('{}'.format(case.replace(\"-\", \" \")), pad=10, fontsize=12)\n",
    "for _, spine in ax.spines.items():\n",
    "    spine.set_visible(True)\n",
    "\n",
    "cax = plt.gcf().axes[-1]\n",
    "cax.tick_params(direction='out')\n",
    "cax.set_frame_on(True)\n",
    "\n",
    "fig.savefig(repo_root/\"notebooks\"/\"publications\"/\"monopole_covar_{}.pdf\".format(case))"
   ]
  }
 ],
 "metadata": {
  "kernelspec": {
   "display_name": "nbodykit-env",
   "language": "python",
   "name": "nbodykit-env"
  },
  "language_info": {
   "codemirror_mode": {
    "name": "ipython",
    "version": 3
   },
   "file_extension": ".py",
   "mimetype": "text/x-python",
   "name": "python",
   "nbconvert_exporter": "python",
   "pygments_lexer": "ipython3",
   "version": "3.8.5"
  }
 },
 "nbformat": 4,
 "nbformat_minor": 4
}
