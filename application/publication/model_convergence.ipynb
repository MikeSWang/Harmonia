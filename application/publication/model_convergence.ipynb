{
 "cells": [
  {
   "cell_type": "markdown",
   "metadata": {},
   "source": [
    "# Model Convergence"
   ]
  },
  {
   "cell_type": "code",
   "execution_count": null,
   "metadata": {},
   "outputs": [],
   "source": [
    "import os\n",
    "import sys\n",
    "from pathlib import Path\n",
    "\n",
    "repo_root = Path(os.getcwd()).parent\n",
    "sys.path.insert(0, str(repo_root))"
   ]
  },
  {
   "cell_type": "code",
   "execution_count": 2,
   "metadata": {},
   "outputs": [
    {
     "name": "stdout",
     "output_type": "stream",
     "text": [
      "[2020-11-10 02:25:14 (+0:00:00) WARNING] WrongDBMModuleWarning: Existing astropy cache is in an unsupported format, either install the appropriate package or use astropy.utils.data.clear_download_cache() to delete the whole cache; db type is dbm.gnu, but the module is not available\n",
      "[2020-11-10 02:25:14 (+0:00:00) WARNING] leap-second auto-update failed due to the following exception: WrongDBMModule('Existing astropy cache is in an unsupported format, either install the appropriate package or use astropy.utils.data.clear_download_cache() to delete the whole cache; db type is dbm.gnu, but the module is not available')\n"
     ]
    },
    {
     "name": "stderr",
     "output_type": "stream",
     "text": [
      "WARNING: WrongDBMModuleWarning: Existing astropy cache is in an unsupported format, either install the appropriate package or use astropy.utils.data.clear_download_cache() to delete the whole cache; db type is dbm.gnu, but the module is not available [astropy.utils.data]\n",
      "WARNING: leap-second auto-update failed due to the following exception: WrongDBMModule('Existing astropy cache is in an unsupported format, either install the appropriate package or use astropy.utils.data.clear_download_cache() to delete the whole cache; db type is dbm.gnu, but the module is not available') [astropy.time.core]\n"
     ]
    }
   ],
   "source": [
    "import matplotlib.pyplot as plt\n",
    "import numpy as np\n",
    "from matplotlib.ticker import AutoMinorLocator\n",
    "\n",
    "from pipeline import harmony\n",
    "from harmonia.cosmology import BaseModel\n",
    "from harmonia.reader import Couplings, SphericalCorrelator\n",
    "\n",
    "plt.style.use(harmony)"
   ]
  },
  {
   "cell_type": "code",
   "execution_count": 3,
   "metadata": {},
   "outputs": [],
   "source": [
    "storage = repo_root/\"storage\"/\"raw\"/\"survey_products\"\n",
    "\n",
    "couplings = Couplings.load(\n",
    "    storage/\n",
    "    \"couplings-(rmax=500.0,kmax=0.055,mask=random0_BOSS_DR12v5_CMASS_North,selection=[100.0,500.0],pixel=256).npz\"\n",
    ")\n",
    "couplings_ref = Couplings.load(\n",
    "    storage/\n",
    "    \"couplings-(rmax=500.0,kmax=0.06,mask=random0_BOSS_DR12v5_CMASS_North,selection=[100.0,500.0],pixel=256).npz\"\n",
    ")\n",
    "couplings_poor = Couplings.load(\n",
    "    storage/\n",
    "    \"couplings-(rmax=500.0,kmax=0.04,mask=random0_BOSS_DR12v5_CMASS_North,selection=[100.0,500.0],pixel=256).npz\"\n",
    ")"
   ]
  },
  {
   "cell_type": "code",
   "execution_count": 4,
   "metadata": {},
   "outputs": [
    {
     "name": "stdout",
     "output_type": "stream",
     "text": [
      "[2020-11-10 02:25:17 (+0:00:03) INFO] Created cosmological model with parameters:\n",
      "{'Omega0_b': 0.044, 'Omega0_cdm': 0.226, 'h': 0.7, 'sigma8': 0.8}.\n"
     ]
    }
   ],
   "source": [
    "cosmo = BaseModel(repo_root/\"storage\"/\"external\"/\"cosmology\"/\"simulation-GadgetAHF.txt\")"
   ]
  },
  {
   "cell_type": "code",
   "execution_count": null,
   "metadata": {},
   "outputs": [
    {
     "name": "stdout",
     "output_type": "stream",
     "text": [
      "[2020-11-10 02:25:20 (+0:00:06) INFO] Compiling fixed angular sums...\n",
      "Angular sum compilation: 100%|██████████| 117370/117370 [05:20<00:00, 366.18it/s]\n",
      "[2020-11-10 02:30:41 (+0:05:26) INFO] ... compiled fixed angular sums.\n",
      "[2020-11-10 02:30:45 (+0:05:31) INFO] Compiling fixed angular sums...\n",
      "Angular sum compilation: 100%|██████████| 25425/25425 [00:31<00:00, 816.41it/s]\n",
      "[2020-11-10 02:31:17 (+0:06:02) INFO] ... compiled fixed angular sums.\n",
      "[2020-11-10 02:31:20 (+0:06:06) INFO] Compiling fixed angular sums...\n",
      "Angular sum compilation:  97%|█████████▋| 161902/166176 [09:07<00:18, 234.19it/s]"
     ]
    }
   ],
   "source": [
    "model = SphericalCorrelator(\n",
    "    couplings.disc, \n",
    "    redshift=1., cosmo=cosmo, couplings=couplings, ini_shot_noise=False\n",
    ")\n",
    "\n",
    "model_poor = SphericalCorrelator(\n",
    "    couplings_poor.disc, \n",
    "    redshift=1., cosmo=cosmo, couplings=couplings_poor, ini_shot_noise=False\n",
    ")\n",
    "\n",
    "model_ref = SphericalCorrelator(\n",
    "    couplings_ref.disc, \n",
    "    redshift=1., cosmo=cosmo, couplings=couplings_ref, ini_shot_noise=False\n",
    ")"
   ]
  },
  {
   "cell_type": "code",
   "execution_count": null,
   "metadata": {},
   "outputs": [],
   "source": [
    "spectrum = model.radialised_power(b_1=1.)\n",
    "spectrum_poor = model_poor.radialised_power(b_1=1.)\n",
    "spectrum_ref = model_ref.radialised_power(b_1=1.)"
   ]
  },
  {
   "cell_type": "code",
   "execution_count": null,
   "metadata": {},
   "outputs": [],
   "source": [
    "red, blue = '#C40233', '#0087BD'\n",
    "\n",
    "overlap = len(spectrum_poor['wavenumbers'])\n",
    "\n",
    "fig = plt.figure(figsize=(6., 4.), dpi=100)\n",
    "\n",
    "main = plt.subplot2grid((4, 1), (0, 0), rowspan=3)\n",
    "\n",
    "main.semilogy(\n",
    "    spectrum_ref['wavenumbers'][:overlap], spectrum_ref['mode_powers'][:overlap], \n",
    "    ls='-', label=r'$k_\\mathrm{trunc} = 0.06\\,h\\,\\mathrm{Mpc}^{-1}$ (reference)', zorder=-1\n",
    ")\n",
    "main.semilogy(\n",
    "    spectrum['wavenumbers'][:overlap], spectrum['mode_powers'][:overlap], \n",
    "    c=blue, ls=':', label=r'$k_\\mathrm{trunc} = 0.055\\,h\\,\\mathrm{Mpc}^{-1}$'\n",
    ")\n",
    "main.semilogy(\n",
    "    spectrum_poor['wavenumbers'][:overlap], spectrum_poor['mode_powers'][:overlap], \n",
    "    c=red, ls='--', label=r'$k_\\mathrm{trunc} = 0.04\\,h\\,\\mathrm{Mpc}^{-1}$ ($k_\\mathrm{hyb}$)'\n",
    ")\n",
    "\n",
    "handles, labels = main.get_legend_handles_labels()\n",
    "\n",
    "main.legend(reversed(handles), reversed(labels), handlelength=1.4)\n",
    "main.tick_params(which='both', labelbottom=False)\n",
    "main.set_ylim(9e2, 5.5e3);\n",
    "main.set_ylabel(\n",
    "    r\"$\\kappa_{\\mu\\mu} \\left. \\langle\\vert{D_\\mu}\\vert^2\\rangle\\right/ \\bar{n}^2$ [$\\mathrm{Mpc}^3\\,h^{-3}$]\",\n",
    "    labelpad=5,\n",
    ");\n",
    "\n",
    "error = plt.subplot2grid((4, 1), (3, 0), rowspan=1, sharex=main)\n",
    "\n",
    "\n",
    "error.plot(\n",
    "    spectrum_ref['wavenumbers'][:overlap], \n",
    "    spectrum['mode_powers'][:overlap]/spectrum_ref['mode_powers'][:overlap] - 1,\n",
    "    c=blue, ls=':',\n",
    ")\n",
    "error.plot(\n",
    "    spectrum_ref['wavenumbers'][:overlap], \n",
    "    spectrum_poor['mode_powers'][:overlap]/spectrum_ref['mode_powers'][:overlap] - 1,\n",
    "    c=red, ls='--',\n",
    ")\n",
    "error.axhspan(-0.01, 0.01, fc='0.67', ec='none', alpha=0.67)\n",
    "\n",
    "error.xaxis.set_minor_locator(AutoMinorLocator())\n",
    "error.yaxis.set_minor_locator(AutoMinorLocator(2))\n",
    "error.set_xlim(spectrum_ref['wavenumbers'][0], spectrum_ref['wavenumbers'][overlap-1]);\n",
    "error.set_ylim(-0.075, 0.075);\n",
    "error.set_xlabel(r\"$k_\\mu$ [$h/\\mathrm{Mpc}$]\", labelpad=8)\n",
    "error.set_ylabel(r\"rel. diff.\", labelpad=12)\n",
    "\n",
    "fig.savefig(repo_root/\"notebooks\"/\"publications\"/\"convergence_check.pdf\")"
   ]
  }
 ],
 "metadata": {
  "kernelspec": {
   "display_name": "nbodykit-env",
   "language": "python",
   "name": "nbodykit-env"
  },
  "language_info": {
   "codemirror_mode": {
    "name": "ipython",
    "version": 3
   },
   "file_extension": ".py",
   "mimetype": "text/x-python",
   "name": "python",
   "nbconvert_exporter": "python",
   "pygments_lexer": "ipython3",
   "version": "3.8.5"
  }
 },
 "nbformat": 4,
 "nbformat_minor": 4
}
